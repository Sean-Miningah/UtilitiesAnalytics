{
 "cells": [
  {
   "cell_type": "markdown",
   "id": "d43d17ec-11b1-4b77-aa7b-f048e17ed9eb",
   "metadata": {},
   "source": [
    "# Utilities Analysis"
   ]
  },
  {
   "cell_type": "code",
   "execution_count": 1,
   "id": "ad83e110-318c-44a8-88fd-c75b99f2a3ec",
   "metadata": {},
   "outputs": [],
   "source": [
    "import numpy as np\n",
    "import pandas as pd\n",
    "from sklearn import set_config\n",
    "import matplotlib.pyplot as plt\n",
    "import seaborn as sns \n",
    "\n",
    "set_config(display=\"diagram\")\n",
    "pd.set_option('display.max_rows', None)\n",
    "\n"
   ]
  },
  {
   "cell_type": "code",
   "execution_count": 2,
   "id": "d338acab-54b1-4282-8d5d-3f387e235261",
   "metadata": {},
   "outputs": [
    {
     "data": {
      "text/html": [
       "<div>\n",
       "<style scoped>\n",
       "    .dataframe tbody tr th:only-of-type {\n",
       "        vertical-align: middle;\n",
       "    }\n",
       "\n",
       "    .dataframe tbody tr th {\n",
       "        vertical-align: top;\n",
       "    }\n",
       "\n",
       "    .dataframe thead th {\n",
       "        text-align: right;\n",
       "    }\n",
       "</style>\n",
       "<table border=\"1\" class=\"dataframe\">\n",
       "  <thead>\n",
       "    <tr style=\"text-align: right;\">\n",
       "      <th></th>\n",
       "      <th>id</th>\n",
       "      <th>paymenttermid</th>\n",
       "      <th>houseid</th>\n",
       "      <th>meterid</th>\n",
       "      <th>reading</th>\n",
       "      <th>quantity</th>\n",
       "      <th>cost</th>\n",
       "      <th>amount</th>\n",
       "      <th>month</th>\n",
       "      <th>year</th>\n",
       "      <th>image</th>\n",
       "      <th>status</th>\n",
       "      <th>remarks</th>\n",
       "      <th>ipaddress</th>\n",
       "      <th>createdby</th>\n",
       "      <th>createdon</th>\n",
       "      <th>lasteditedby</th>\n",
       "      <th>lasteditedon</th>\n",
       "      <th>archive</th>\n",
       "    </tr>\n",
       "  </thead>\n",
       "  <tbody>\n",
       "    <tr>\n",
       "      <th>57657</th>\n",
       "      <td>71688</td>\n",
       "      <td>7</td>\n",
       "      <td>274</td>\n",
       "      <td>1375.0</td>\n",
       "      <td>515764.00</td>\n",
       "      <td>515764.00</td>\n",
       "      <td>0.0</td>\n",
       "      <td>0.0</td>\n",
       "      <td>12</td>\n",
       "      <td>2022</td>\n",
       "      <td>meter3.jpg</td>\n",
       "      <td>1</td>\n",
       "      <td>NaN</td>\n",
       "      <td>NaN</td>\n",
       "      <td>0.0</td>\n",
       "      <td>1999-12-31</td>\n",
       "      <td>0.0</td>\n",
       "      <td>1999-12-31</td>\n",
       "      <td>0</td>\n",
       "    </tr>\n",
       "    <tr>\n",
       "      <th>57658</th>\n",
       "      <td>71689</td>\n",
       "      <td>7</td>\n",
       "      <td>283</td>\n",
       "      <td>1163.0</td>\n",
       "      <td>2494290.00</td>\n",
       "      <td>2494290.00</td>\n",
       "      <td>0.0</td>\n",
       "      <td>0.0</td>\n",
       "      <td>12</td>\n",
       "      <td>2022</td>\n",
       "      <td>meter3.jpg</td>\n",
       "      <td>1</td>\n",
       "      <td>NaN</td>\n",
       "      <td>NaN</td>\n",
       "      <td>0.0</td>\n",
       "      <td>1999-12-31</td>\n",
       "      <td>0.0</td>\n",
       "      <td>1999-12-31</td>\n",
       "      <td>0</td>\n",
       "    </tr>\n",
       "    <tr>\n",
       "      <th>57659</th>\n",
       "      <td>71690</td>\n",
       "      <td>7</td>\n",
       "      <td>280</td>\n",
       "      <td>1387.0</td>\n",
       "      <td>3181300.00</td>\n",
       "      <td>3181300.00</td>\n",
       "      <td>0.0</td>\n",
       "      <td>0.0</td>\n",
       "      <td>12</td>\n",
       "      <td>2022</td>\n",
       "      <td>meter3.jpg</td>\n",
       "      <td>1</td>\n",
       "      <td>NaN</td>\n",
       "      <td>NaN</td>\n",
       "      <td>0.0</td>\n",
       "      <td>1999-12-31</td>\n",
       "      <td>0.0</td>\n",
       "      <td>1999-12-31</td>\n",
       "      <td>0</td>\n",
       "    </tr>\n",
       "    <tr>\n",
       "      <th>57660</th>\n",
       "      <td>71691</td>\n",
       "      <td>37</td>\n",
       "      <td>40</td>\n",
       "      <td>1420.0</td>\n",
       "      <td>0.00</td>\n",
       "      <td>0.00</td>\n",
       "      <td>0.0</td>\n",
       "      <td>0.0</td>\n",
       "      <td>12</td>\n",
       "      <td>2022</td>\n",
       "      <td>NaN</td>\n",
       "      <td>0</td>\n",
       "      <td>NaN</td>\n",
       "      <td>NaN</td>\n",
       "      <td>0.0</td>\n",
       "      <td>1999-12-31</td>\n",
       "      <td>0.0</td>\n",
       "      <td>1999-12-31</td>\n",
       "      <td>0</td>\n",
       "    </tr>\n",
       "    <tr>\n",
       "      <th>57661</th>\n",
       "      <td>71692</td>\n",
       "      <td>7</td>\n",
       "      <td>234</td>\n",
       "      <td>1421.0</td>\n",
       "      <td>20440.00</td>\n",
       "      <td>20440.00</td>\n",
       "      <td>0.0</td>\n",
       "      <td>0.0</td>\n",
       "      <td>12</td>\n",
       "      <td>2022</td>\n",
       "      <td>meter3.jpg</td>\n",
       "      <td>1</td>\n",
       "      <td>NaN</td>\n",
       "      <td>NaN</td>\n",
       "      <td>0.0</td>\n",
       "      <td>1999-12-31</td>\n",
       "      <td>0.0</td>\n",
       "      <td>1999-12-31</td>\n",
       "      <td>0</td>\n",
       "    </tr>\n",
       "    <tr>\n",
       "      <th>57662</th>\n",
       "      <td>71693</td>\n",
       "      <td>7</td>\n",
       "      <td>297</td>\n",
       "      <td>1229.0</td>\n",
       "      <td>308493.00</td>\n",
       "      <td>308493.00</td>\n",
       "      <td>0.0</td>\n",
       "      <td>0.0</td>\n",
       "      <td>12</td>\n",
       "      <td>2022</td>\n",
       "      <td>meter3.jpg</td>\n",
       "      <td>1</td>\n",
       "      <td>NaN</td>\n",
       "      <td>NaN</td>\n",
       "      <td>0.0</td>\n",
       "      <td>1999-12-31</td>\n",
       "      <td>0.0</td>\n",
       "      <td>1999-12-31</td>\n",
       "      <td>0</td>\n",
       "    </tr>\n",
       "    <tr>\n",
       "      <th>57663</th>\n",
       "      <td>71694</td>\n",
       "      <td>7</td>\n",
       "      <td>86</td>\n",
       "      <td>337.0</td>\n",
       "      <td>59939.00</td>\n",
       "      <td>59939.00</td>\n",
       "      <td>0.0</td>\n",
       "      <td>0.0</td>\n",
       "      <td>1</td>\n",
       "      <td>2023</td>\n",
       "      <td>meter3.jpg</td>\n",
       "      <td>1</td>\n",
       "      <td>NaN</td>\n",
       "      <td>NaN</td>\n",
       "      <td>0.0</td>\n",
       "      <td>1999-12-31</td>\n",
       "      <td>0.0</td>\n",
       "      <td>1999-12-31</td>\n",
       "      <td>0</td>\n",
       "    </tr>\n",
       "    <tr>\n",
       "      <th>57664</th>\n",
       "      <td>71695</td>\n",
       "      <td>11</td>\n",
       "      <td>86</td>\n",
       "      <td>592.0</td>\n",
       "      <td>54.00</td>\n",
       "      <td>54.00</td>\n",
       "      <td>0.0</td>\n",
       "      <td>0.0</td>\n",
       "      <td>1</td>\n",
       "      <td>2023</td>\n",
       "      <td>meter.jpg</td>\n",
       "      <td>1</td>\n",
       "      <td>NaN</td>\n",
       "      <td>NaN</td>\n",
       "      <td>0.0</td>\n",
       "      <td>1999-12-31</td>\n",
       "      <td>0.0</td>\n",
       "      <td>1999-12-31</td>\n",
       "      <td>0</td>\n",
       "    </tr>\n",
       "    <tr>\n",
       "      <th>57665</th>\n",
       "      <td>71696</td>\n",
       "      <td>37</td>\n",
       "      <td>86</td>\n",
       "      <td>847.0</td>\n",
       "      <td>4358.13</td>\n",
       "      <td>4358.13</td>\n",
       "      <td>0.0</td>\n",
       "      <td>0.0</td>\n",
       "      <td>1</td>\n",
       "      <td>2023</td>\n",
       "      <td>NaN</td>\n",
       "      <td>1</td>\n",
       "      <td>NaN</td>\n",
       "      <td>NaN</td>\n",
       "      <td>0.0</td>\n",
       "      <td>1999-12-31</td>\n",
       "      <td>0.0</td>\n",
       "      <td>1999-12-31</td>\n",
       "      <td>0</td>\n",
       "    </tr>\n",
       "    <tr>\n",
       "      <th>57666</th>\n",
       "      <td>71697</td>\n",
       "      <td>36</td>\n",
       "      <td>86</td>\n",
       "      <td>82.0</td>\n",
       "      <td>399.00</td>\n",
       "      <td>399.00</td>\n",
       "      <td>0.0</td>\n",
       "      <td>0.0</td>\n",
       "      <td>1</td>\n",
       "      <td>2023</td>\n",
       "      <td>meter2.jpg</td>\n",
       "      <td>1</td>\n",
       "      <td>NaN</td>\n",
       "      <td>NaN</td>\n",
       "      <td>0.0</td>\n",
       "      <td>1999-12-31</td>\n",
       "      <td>0.0</td>\n",
       "      <td>1999-12-31</td>\n",
       "      <td>0</td>\n",
       "    </tr>\n",
       "  </tbody>\n",
       "</table>\n",
       "</div>"
      ],
      "text/plain": [
       "          id  paymenttermid  houseid  meterid     reading    quantity  cost  \\\n",
       "57657  71688              7      274   1375.0   515764.00   515764.00   0.0   \n",
       "57658  71689              7      283   1163.0  2494290.00  2494290.00   0.0   \n",
       "57659  71690              7      280   1387.0  3181300.00  3181300.00   0.0   \n",
       "57660  71691             37       40   1420.0        0.00        0.00   0.0   \n",
       "57661  71692              7      234   1421.0    20440.00    20440.00   0.0   \n",
       "57662  71693              7      297   1229.0   308493.00   308493.00   0.0   \n",
       "57663  71694              7       86    337.0    59939.00    59939.00   0.0   \n",
       "57664  71695             11       86    592.0       54.00       54.00   0.0   \n",
       "57665  71696             37       86    847.0     4358.13     4358.13   0.0   \n",
       "57666  71697             36       86     82.0      399.00      399.00   0.0   \n",
       "\n",
       "       amount  month  year       image  status  remarks  ipaddress  createdby  \\\n",
       "57657     0.0     12  2022  meter3.jpg       1      NaN        NaN        0.0   \n",
       "57658     0.0     12  2022  meter3.jpg       1      NaN        NaN        0.0   \n",
       "57659     0.0     12  2022  meter3.jpg       1      NaN        NaN        0.0   \n",
       "57660     0.0     12  2022         NaN       0      NaN        NaN        0.0   \n",
       "57661     0.0     12  2022  meter3.jpg       1      NaN        NaN        0.0   \n",
       "57662     0.0     12  2022  meter3.jpg       1      NaN        NaN        0.0   \n",
       "57663     0.0      1  2023  meter3.jpg       1      NaN        NaN        0.0   \n",
       "57664     0.0      1  2023   meter.jpg       1      NaN        NaN        0.0   \n",
       "57665     0.0      1  2023         NaN       1      NaN        NaN        0.0   \n",
       "57666     0.0      1  2023  meter2.jpg       1      NaN        NaN        0.0   \n",
       "\n",
       "       createdon  lasteditedby lasteditedon  archive  \n",
       "57657 1999-12-31           0.0   1999-12-31        0  \n",
       "57658 1999-12-31           0.0   1999-12-31        0  \n",
       "57659 1999-12-31           0.0   1999-12-31        0  \n",
       "57660 1999-12-31           0.0   1999-12-31        0  \n",
       "57661 1999-12-31           0.0   1999-12-31        0  \n",
       "57662 1999-12-31           0.0   1999-12-31        0  \n",
       "57663 1999-12-31           0.0   1999-12-31        0  \n",
       "57664 1999-12-31           0.0   1999-12-31        0  \n",
       "57665 1999-12-31           0.0   1999-12-31        0  \n",
       "57666 1999-12-31           0.0   1999-12-31        0  "
      ]
     },
     "execution_count": 2,
     "metadata": {},
     "output_type": "execute_result"
    }
   ],
   "source": [
    "data = pd.read_excel(\"datasets/em_housemeterreadings.xlsx\")\n",
    "\n",
    "\n",
    "data.tail(10)"
   ]
  },
  {
   "cell_type": "code",
   "execution_count": 3,
   "id": "1f1611b5-c398-4161-9b0a-e7bf1242c68b",
   "metadata": {},
   "outputs": [
    {
     "name": "stdout",
     "output_type": "stream",
     "text": [
      "There are 57667 rows and 19 columns \n",
      "\n",
      "<class 'pandas.core.frame.DataFrame'>\n",
      "RangeIndex: 57667 entries, 0 to 57666\n",
      "Data columns (total 19 columns):\n",
      " #   Column         Non-Null Count  Dtype         \n",
      "---  ------         --------------  -----         \n",
      " 0   id             57667 non-null  int64         \n",
      " 1   paymenttermid  57667 non-null  int64         \n",
      " 2   houseid        57667 non-null  int64         \n",
      " 3   meterid        57614 non-null  float64       \n",
      " 4   reading        57667 non-null  float64       \n",
      " 5   quantity       57667 non-null  float64       \n",
      " 6   cost           2136 non-null   float64       \n",
      " 7   amount         2136 non-null   float64       \n",
      " 8   month          57667 non-null  int64         \n",
      " 9   year           57667 non-null  int64         \n",
      " 10  image          57278 non-null  object        \n",
      " 11  status         57667 non-null  int64         \n",
      " 12  remarks        0 non-null      float64       \n",
      " 13  ipaddress      0 non-null      float64       \n",
      " 14  createdby      837 non-null    float64       \n",
      " 15  createdon      837 non-null    datetime64[ns]\n",
      " 16  lasteditedby   2142 non-null   float64       \n",
      " 17  lasteditedon   2142 non-null   datetime64[ns]\n",
      " 18  archive        57667 non-null  int64         \n",
      "dtypes: datetime64[ns](2), float64(9), int64(7), object(1)\n",
      "memory usage: 8.4+ MB\n",
      "There values are None\n"
     ]
    }
   ],
   "source": [
    "print(f\"There are {data.shape[0]} rows and {data.shape[1]} columns \\n\")\n",
    "print(f\"There values are {data.info()}\")     "
   ]
  },
  {
   "cell_type": "markdown",
   "id": "784a1d7d-be8a-4616-ae57-6d16dc499c77",
   "metadata": {},
   "source": [
    "## Data Exploration\n",
    "\n",
    "The columns are their definations:\n",
    "\n",
    "* `id` - unique identifier of each meter reading\n",
    "* `paymenttermid` - Utility represented by reading\n",
    "\n",
    "```\n",
    "    {\n",
    "        \"7\": \"Gas\",\n",
    "        \"11\" : \"Backup Power\"\n",
    "        \"36\" : \"Water\",\n",
    "        \"37\" : \"Electricity\",\n",
    "        \"38\" : \"Gas Residential\",\n",
    "        \"39\" : \"Gas Commercial\", \n",
    "        \"41\" : \"Backup Power (CPF)\",\n",
    "        \"41\" : \"Water (CPF)\",\n",
    "        \"42\" : \"Electricity (CPF)\",\n",
    "    }\n",
    "```\n",
    "\n",
    "* `houseid` - House the reading came from \n",
    "* `meterid` - Meter id the reading was read from \n",
    "* `reading` - The reading\n",
    "* `quantity` - Quantity the reading represents\n",
    "* `cost` - The cost( column is empty)\n",
    "* `amount` - The amount to be paid ( column is empty) \n",
    "* `month` - The month the reading was taken value are number i.e 1,2,3,\n",
    "* `year` - The year the reading was made\n",
    "* `image` - image of reading\n",
    "* `status`  - Whether the billing was used for billing or not. \n",
    "* `remarks` - Remarks  on meter reading (empty)\n",
    "* `ipaddress` - (empty)\n",
    "* `createdby` - Who created meter reading row \n",
    "* `createdon` - When the meter reading row was created\n",
    "* `lasteditedby` - Who last edited the meter reading row\n",
    "* `lasteditedon` = When the meter reading row was last edited\n",
    "* `archive` - Has the row been archived"
   ]
  },
  {
   "cell_type": "markdown",
   "id": "6647d012-ca23-4bde-bc26-c92aaf11fb59",
   "metadata": {},
   "source": [
    "### Remarks \n",
    "\n",
    "We intend to use the dataset to build a model to predict utilities quantity.\n",
    "The mdoel will be built using `payemnttermid`, `meterid`, `reading`, `quantity`, `month`, `year`, `status` for this analysis. \n",
    "The target variables is the `reading`. "
   ]
  },
  {
   "cell_type": "code",
   "execution_count": 4,
   "id": "efbb4bd0-b0d6-4ac6-964c-449fcc84bc14",
   "metadata": {},
   "outputs": [
    {
     "data": {
      "text/plain": [
       "False"
      ]
     },
     "execution_count": 4,
     "metadata": {},
     "output_type": "execute_result"
    }
   ],
   "source": [
    "(data.reading == data.quantity).all()"
   ]
  },
  {
   "cell_type": "code",
   "execution_count": 5,
   "id": "615d75d3-67ce-42ee-afd1-6076c096abf2",
   "metadata": {},
   "outputs": [
    {
     "name": "stdout",
     "output_type": "stream",
     "text": [
      "1361\n"
     ]
    }
   ],
   "source": [
    "result = data[['reading', 'quantity', 'year', 'month']][data['reading'].ne(data['quantity'])]\n",
    "print(len(result))"
   ]
  },
  {
   "cell_type": "code",
   "execution_count": 6,
   "id": "062ede7e-3365-4bf3-a555-6c1a64f46baf",
   "metadata": {},
   "outputs": [],
   "source": [
    "\n",
    "columns = ['paymenttermid', 'meterid', 'reading', 'quantity', 'month', 'year', 'status']\n",
    "data = data[columns]"
   ]
  },
  {
   "cell_type": "code",
   "execution_count": 7,
   "id": "e2527233-4b93-4949-b60a-1e2f2850224a",
   "metadata": {},
   "outputs": [
    {
     "data": {
      "text/plain": [
       "paymenttermid     0\n",
       "meterid          53\n",
       "reading           0\n",
       "quantity          0\n",
       "month             0\n",
       "year              0\n",
       "status            0\n",
       "dtype: int64"
      ]
     },
     "execution_count": 7,
     "metadata": {},
     "output_type": "execute_result"
    }
   ],
   "source": [
    "data.isna().sum()"
   ]
  },
  {
   "cell_type": "code",
   "execution_count": 8,
   "id": "e3560299-1f85-4b49-bd8d-88339aa1a6c7",
   "metadata": {},
   "outputs": [
    {
     "data": {
      "text/plain": [
       "(53, 7)"
      ]
     },
     "execution_count": 8,
     "metadata": {},
     "output_type": "execute_result"
    }
   ],
   "source": [
    "empty = data[data.isna().any(axis=1)]\n",
    "empty.shape"
   ]
  },
  {
   "cell_type": "markdown",
   "id": "344ebaab-5e88-4551-9624-42060f508da9",
   "metadata": {},
   "source": [
    "There are 53 rows that contain a missing value. The missing values are in the meterid column. We are going to exclude these rows for modelling because there are a small number. \n"
   ]
  },
  {
   "cell_type": "code",
   "execution_count": 9,
   "id": "33f4048d-2d64-41a4-8bd8-c62feaebf85c",
   "metadata": {},
   "outputs": [
    {
     "data": {
      "text/plain": [
       "paymenttermid    0\n",
       "meterid          0\n",
       "reading          0\n",
       "quantity         0\n",
       "month            0\n",
       "year             0\n",
       "status           0\n",
       "dtype: int64"
      ]
     },
     "execution_count": 9,
     "metadata": {},
     "output_type": "execute_result"
    }
   ],
   "source": [
    "data = data.dropna()\n",
    "data.isna().sum()"
   ]
  },
  {
   "cell_type": "markdown",
   "id": "47e17a7a-579e-4aec-851b-9381cd8747f2",
   "metadata": {},
   "source": [
    "\n",
    "Some columns are categorical in nature but their data types is either float or integer. We will have to fix their data type so as not to confuse our model during training.\n",
    "\n",
    "These columns are `paymentid`, `houseid`, `meterid`, `status`.\n",
    "There also columns that should be in datetime format. They are `year`, `month`"
   ]
  },
  {
   "cell_type": "code",
   "execution_count": 10,
   "id": "805072ea-b902-490f-8327-1b9e9399fd5d",
   "metadata": {},
   "outputs": [
    {
     "data": {
      "text/plain": [
       "12    5023\n",
       "8     4956\n",
       "10    4956\n",
       "11    4953\n",
       "7     4926\n",
       "9     4922\n",
       "4     4907\n",
       "6     4879\n",
       "5     4839\n",
       "2     4812\n",
       "3     4614\n",
       "1     3826\n",
       "0        1\n",
       "Name: month, dtype: int64"
      ]
     },
     "execution_count": 10,
     "metadata": {},
     "output_type": "execute_result"
    }
   ],
   "source": [
    "data['month'].value_counts()"
   ]
  },
  {
   "cell_type": "markdown",
   "id": "8bdeb77f-8111-433e-806f-73f602db3aaf",
   "metadata": {},
   "source": [
    "There is a row containing 0 month which is impossible"
   ]
  },
  {
   "cell_type": "code",
   "execution_count": 11,
   "id": "73a95382-3811-4133-bf98-a7bd3f8a2cf7",
   "metadata": {},
   "outputs": [
    {
     "data": {
      "text/html": [
       "<div>\n",
       "<style scoped>\n",
       "    .dataframe tbody tr th:only-of-type {\n",
       "        vertical-align: middle;\n",
       "    }\n",
       "\n",
       "    .dataframe tbody tr th {\n",
       "        vertical-align: top;\n",
       "    }\n",
       "\n",
       "    .dataframe thead th {\n",
       "        text-align: right;\n",
       "    }\n",
       "</style>\n",
       "<table border=\"1\" class=\"dataframe\">\n",
       "  <thead>\n",
       "    <tr style=\"text-align: right;\">\n",
       "      <th></th>\n",
       "      <th>paymenttermid</th>\n",
       "      <th>meterid</th>\n",
       "      <th>reading</th>\n",
       "      <th>quantity</th>\n",
       "      <th>month</th>\n",
       "      <th>year</th>\n",
       "      <th>status</th>\n",
       "    </tr>\n",
       "  </thead>\n",
       "  <tbody>\n",
       "    <tr>\n",
       "      <th>15320</th>\n",
       "      <td>0</td>\n",
       "      <td>0.0</td>\n",
       "      <td>0.0</td>\n",
       "      <td>0.0</td>\n",
       "      <td>0</td>\n",
       "      <td>0</td>\n",
       "      <td>0</td>\n",
       "    </tr>\n",
       "  </tbody>\n",
       "</table>\n",
       "</div>"
      ],
      "text/plain": [
       "       paymenttermid  meterid  reading  quantity  month  year  status\n",
       "15320              0      0.0      0.0       0.0      0     0       0"
      ]
     },
     "execution_count": 11,
     "metadata": {},
     "output_type": "execute_result"
    }
   ],
   "source": [
    "data[data['month'] == 0]"
   ]
  },
  {
   "cell_type": "code",
   "execution_count": 12,
   "id": "bba0b7be-1101-4673-af92-9715ccf347fd",
   "metadata": {},
   "outputs": [],
   "source": [
    "data = data.drop(data[data['month'] == 0].index)"
   ]
  },
  {
   "cell_type": "code",
   "execution_count": 19,
   "id": "017c546a-95c2-4ff3-b97e-c596791501e9",
   "metadata": {},
   "outputs": [
    {
     "name": "stdout",
     "output_type": "stream",
     "text": [
      "\n",
      "    The feature rows are Index(['paymenttermid', 'meterid', 'quantity', 'month', 'year', 'status'], dtype='object') and they contain 57613 rows \n",
      "\n",
      "    The target rows is reading and it contains 57613 rows \n",
      "    \n"
     ]
    }
   ],
   "source": [
    "# target = data['reading']\n",
    "# data = data.drop(columns=['reading'])\n",
    "print(f\"\"\"\n",
    "    The feature rows are {data.columns} and they contain {data.shape[0]} rows \\n\n",
    "    The target rows is {target.name} and it contains {target.shape[0]} rows \n",
    "    \"\"\"\n",
    "     ) "
   ]
  },
  {
   "cell_type": "markdown",
   "id": "e823c9ac-a212-407e-867c-42a3842b9fc0",
   "metadata": {},
   "source": [
    "We are going to convert each row to the right data type for easier analysis."
   ]
  },
  {
   "cell_type": "code",
   "execution_count": null,
   "id": "a35929bb-a1c3-4551-9098-77312a3f9cf0",
   "metadata": {},
   "outputs": [],
   "source": []
  },
  {
   "cell_type": "code",
   "execution_count": null,
   "id": "5d46a9a3-53d0-4cea-835f-f0969da2e87e",
   "metadata": {},
   "outputs": [],
   "source": [
    "for i in data.columns:\n",
    "    plt.hist(data[i])\n",
    "    plt.title(i)\n",
    "    plt.show()"
   ]
  },
  {
   "cell_type": "code",
   "execution_count": null,
   "id": "94258c25-fb61-4c1b-a423-b470d403b7e2",
   "metadata": {},
   "outputs": [],
   "source": []
  },
  {
   "cell_type": "code",
   "execution_count": null,
   "id": "a7f15fec-4202-465d-9b6f-6361b1979c64",
   "metadata": {},
   "outputs": [],
   "source": []
  },
  {
   "cell_type": "code",
   "execution_count": null,
   "id": "522015d3-c5d2-492d-b88a-e28f5768fd70",
   "metadata": {},
   "outputs": [],
   "source": []
  }
 ],
 "metadata": {
  "kernelspec": {
   "display_name": "dash-sklearn",
   "language": "python",
   "name": "dash-sklearn"
  },
  "language_info": {
   "codemirror_mode": {
    "name": "ipython",
    "version": 3
   },
   "file_extension": ".py",
   "mimetype": "text/x-python",
   "name": "python",
   "nbconvert_exporter": "python",
   "pygments_lexer": "ipython3",
   "version": "3.10.7"
  }
 },
 "nbformat": 4,
 "nbformat_minor": 5
}
