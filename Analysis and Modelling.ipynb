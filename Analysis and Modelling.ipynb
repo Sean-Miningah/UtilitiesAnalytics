{
 "cells": [
  {
   "cell_type": "code",
   "execution_count": null,
   "id": "ce01490e-a3bf-436c-bc7a-606b6cbf8429",
   "metadata": {},
   "outputs": [],
   "source": []
  }
 ],
 "metadata": {
  "kernelspec": {
   "display_name": "dash-sklearn",
   "language": "python",
   "name": "dash-sklearn"
  },
  "language_info": {
   "codemirror_mode": {
    "name": "ipython",
    "version": 3
   },
   "file_extension": ".py",
   "mimetype": "text/x-python",
   "name": "python",
   "nbconvert_exporter": "python",
   "pygments_lexer": "ipython3",
   "version": "3.10.7"
  }
 },
 "nbformat": 4,
 "nbformat_minor": 5
}
